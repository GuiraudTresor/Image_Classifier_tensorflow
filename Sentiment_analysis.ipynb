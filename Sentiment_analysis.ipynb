{
 "cells": [
  {
   "cell_type": "markdown",
   "id": "7779a1d8",
   "metadata": {},
   "source": [
    "## 1. Install and import dependencies"
   ]
  },
  {
   "cell_type": "code",
   "execution_count": 5,
   "id": "2b5b841b",
   "metadata": {},
   "outputs": [
    {
     "name": "stdout",
     "output_type": "stream",
     "text": [
      "Looking in indexes: https://pypi.org/simple, https://download.pytorch.org/whl/cu117\n",
      "Requirement already satisfied: torch in c:\\users\\anwender\\sentiment_analysis\\sentiment_analysis\\lib\\site-packages (1.13.1+cu117)\n",
      "Requirement already satisfied: torchvision in c:\\users\\anwender\\sentiment_analysis\\sentiment_analysis\\lib\\site-packages (0.14.1+cu117)\n",
      "Requirement already satisfied: torchaudio in c:\\users\\anwender\\sentiment_analysis\\sentiment_analysis\\lib\\site-packages (0.13.1+cu117)\n",
      "Requirement already satisfied: typing-extensions in c:\\users\\anwender\\sentiment_analysis\\sentiment_analysis\\lib\\site-packages (from torch) (4.5.0)\n",
      "Requirement already satisfied: requests in c:\\users\\anwender\\sentiment_analysis\\sentiment_analysis\\lib\\site-packages (from torchvision) (2.28.2)\n",
      "Requirement already satisfied: pillow!=8.3.*,>=5.3.0 in c:\\users\\anwender\\sentiment_analysis\\sentiment_analysis\\lib\\site-packages (from torchvision) (9.4.0)\n",
      "Requirement already satisfied: numpy in c:\\users\\anwender\\sentiment_analysis\\sentiment_analysis\\lib\\site-packages (from torchvision) (1.24.2)\n",
      "Requirement already satisfied: urllib3<1.27,>=1.21.1 in c:\\users\\anwender\\sentiment_analysis\\sentiment_analysis\\lib\\site-packages (from requests->torchvision) (1.26.14)\n",
      "Requirement already satisfied: charset-normalizer<4,>=2 in c:\\users\\anwender\\sentiment_analysis\\sentiment_analysis\\lib\\site-packages (from requests->torchvision) (3.1.0)\n",
      "Requirement already satisfied: idna<4,>=2.5 in c:\\users\\anwender\\sentiment_analysis\\sentiment_analysis\\lib\\site-packages (from requests->torchvision) (3.4)\n",
      "Requirement already satisfied: certifi>=2017.4.17 in c:\\users\\anwender\\sentiment_analysis\\sentiment_analysis\\lib\\site-packages (from requests->torchvision) (2022.12.7)\n"
     ]
    }
   ],
   "source": [
    "import sys\n",
    "!{sys.executable} -m pip install torch torchvision torchaudio --extra-index-url https://download.pytorch.org/whl/cu117"
   ]
  },
  {
   "cell_type": "code",
   "execution_count": 2,
   "id": "1c419a68",
   "metadata": {},
   "outputs": [
    {
     "name": "stdout",
     "output_type": "stream",
     "text": [
      "Requirement already satisfied: transformers in c:\\users\\anwender\\sentiment_analysis\\sentiment_analysis\\lib\\site-packages (4.26.1)\n",
      "Requirement already satisfied: requests in c:\\users\\anwender\\sentiment_analysis\\sentiment_analysis\\lib\\site-packages (2.28.2)\n",
      "Requirement already satisfied: beautifulsoup4 in c:\\users\\anwender\\sentiment_analysis\\sentiment_analysis\\lib\\site-packages (4.11.2)\n",
      "Requirement already satisfied: pandas in c:\\users\\anwender\\sentiment_analysis\\sentiment_analysis\\lib\\site-packages (1.5.3)\n",
      "Requirement already satisfied: numpy in c:\\users\\anwender\\sentiment_analysis\\sentiment_analysis\\lib\\site-packages (1.24.2)\n",
      "Requirement already satisfied: tqdm>=4.27 in c:\\users\\anwender\\sentiment_analysis\\sentiment_analysis\\lib\\site-packages (from transformers) (4.65.0)\n",
      "Requirement already satisfied: huggingface-hub<1.0,>=0.11.0 in c:\\users\\anwender\\sentiment_analysis\\sentiment_analysis\\lib\\site-packages (from transformers) (0.12.1)\n",
      "Requirement already satisfied: regex!=2019.12.17 in c:\\users\\anwender\\sentiment_analysis\\sentiment_analysis\\lib\\site-packages (from transformers) (2022.10.31)\n",
      "Requirement already satisfied: tokenizers!=0.11.3,<0.14,>=0.11.1 in c:\\users\\anwender\\sentiment_analysis\\sentiment_analysis\\lib\\site-packages (from transformers) (0.13.2)\n",
      "Requirement already satisfied: filelock in c:\\users\\anwender\\sentiment_analysis\\sentiment_analysis\\lib\\site-packages (from transformers) (3.9.0)\n",
      "Requirement already satisfied: packaging>=20.0 in c:\\users\\anwender\\sentiment_analysis\\sentiment_analysis\\lib\\site-packages (from transformers) (23.0)\n",
      "Requirement already satisfied: pyyaml>=5.1 in c:\\users\\anwender\\sentiment_analysis\\sentiment_analysis\\lib\\site-packages (from transformers) (6.0)\n",
      "Requirement already satisfied: certifi>=2017.4.17 in c:\\users\\anwender\\sentiment_analysis\\sentiment_analysis\\lib\\site-packages (from requests) (2022.12.7)\n",
      "Requirement already satisfied: idna<4,>=2.5 in c:\\users\\anwender\\sentiment_analysis\\sentiment_analysis\\lib\\site-packages (from requests) (3.4)\n",
      "Requirement already satisfied: urllib3<1.27,>=1.21.1 in c:\\users\\anwender\\sentiment_analysis\\sentiment_analysis\\lib\\site-packages (from requests) (1.26.14)\n",
      "Requirement already satisfied: charset-normalizer<4,>=2 in c:\\users\\anwender\\sentiment_analysis\\sentiment_analysis\\lib\\site-packages (from requests) (3.1.0)\n",
      "Requirement already satisfied: soupsieve>1.2 in c:\\users\\anwender\\sentiment_analysis\\sentiment_analysis\\lib\\site-packages (from beautifulsoup4) (2.4)\n",
      "Requirement already satisfied: python-dateutil>=2.8.1 in c:\\users\\anwender\\sentiment_analysis\\sentiment_analysis\\lib\\site-packages (from pandas) (2.8.2)\n",
      "Requirement already satisfied: pytz>=2020.1 in c:\\users\\anwender\\sentiment_analysis\\sentiment_analysis\\lib\\site-packages (from pandas) (2022.7.1)\n",
      "Requirement already satisfied: typing-extensions>=3.7.4.3 in c:\\users\\anwender\\sentiment_analysis\\sentiment_analysis\\lib\\site-packages (from huggingface-hub<1.0,>=0.11.0->transformers) (4.5.0)\n",
      "Requirement already satisfied: six>=1.5 in c:\\users\\anwender\\sentiment_analysis\\sentiment_analysis\\lib\\site-packages (from python-dateutil>=2.8.1->pandas) (1.16.0)\n",
      "Requirement already satisfied: colorama in c:\\users\\anwender\\sentiment_analysis\\sentiment_analysis\\lib\\site-packages (from tqdm>=4.27->transformers) (0.4.6)\n"
     ]
    }
   ],
   "source": [
    "import sys\n",
    "!{sys.executable} -m pip install transformers requests beautifulsoup4 pandas numpy"
   ]
  },
  {
   "cell_type": "code",
   "execution_count": 3,
   "id": "544d0877",
   "metadata": {},
   "outputs": [],
   "source": [
    "from transformers import AutoTokenizer, AutoModelForSequenceClassification\n",
    "import torch\n",
    "import requests\n",
    "from bs4 import BeautifulSoup\n",
    "import re"
   ]
  },
  {
   "cell_type": "markdown",
   "id": "397111eb",
   "metadata": {},
   "source": [
    "## 2. Instantiate Model"
   ]
  },
  {
   "cell_type": "code",
   "execution_count": 4,
   "id": "1ba482c9",
   "metadata": {},
   "outputs": [
    {
     "data": {
      "application/vnd.jupyter.widget-view+json": {
       "model_id": "4b8c4bf801ae490e8c6219c5f0f301a6",
       "version_major": 2,
       "version_minor": 0
      },
      "text/plain": [
       "Downloading (…)\"pytorch_model.bin\";:   0%|          | 0.00/669M [00:00<?, ?B/s]"
      ]
     },
     "metadata": {},
     "output_type": "display_data"
    },
    {
     "name": "stderr",
     "output_type": "stream",
     "text": [
      "C:\\Users\\Anwender\\sentiment_analysis\\sentiment_analysis\\lib\\site-packages\\huggingface_hub\\file_download.py:129: UserWarning: `huggingface_hub` cache-system uses symlinks by default to efficiently store duplicated files but your machine does not support them in C:\\Users\\Anwender\\.cache\\huggingface\\hub. Caching files will still work but in a degraded version that might require more space on your disk. This warning can be disabled by setting the `HF_HUB_DISABLE_SYMLINKS_WARNING` environment variable. For more details, see https://huggingface.co/docs/huggingface_hub/how-to-cache#limitations.\n",
      "To support symlinks on Windows, you either need to activate Developer Mode or to run Python as an administrator. In order to see activate developer mode, see this article: https://docs.microsoft.com/en-us/windows/apps/get-started/enable-your-device-for-development\n",
      "  warnings.warn(message)\n"
     ]
    }
   ],
   "source": [
    "tokenizer = AutoTokenizer.from_pretrained('nlptown/bert-base-multilingual-uncased-sentiment')\n",
    "model = AutoModelForSequenceClassification.from_pretrained('nlptown/bert-base-multilingual-uncased-sentiment')"
   ]
  },
  {
   "cell_type": "markdown",
   "id": "eaf486ee",
   "metadata": {},
   "source": [
    "## 3. Encode and calculate Sentiment"
   ]
  },
  {
   "cell_type": "code",
   "execution_count": 14,
   "id": "a04f39ce",
   "metadata": {},
   "outputs": [],
   "source": [
    "tokens = tokenizer.encode('It was not really nice what i ate', return_tensors='pt')"
   ]
  },
  {
   "cell_type": "code",
   "execution_count": 15,
   "id": "36537ca5",
   "metadata": {},
   "outputs": [],
   "source": [
    "result = model(tokens)"
   ]
  },
  {
   "cell_type": "code",
   "execution_count": 16,
   "id": "441f0d69",
   "metadata": {},
   "outputs": [
    {
     "data": {
      "text/plain": [
       "tensor([[ 0.7386,  2.2746,  1.9819, -0.9676, -3.2683]],\n",
       "       grad_fn=<AddmmBackward0>)"
      ]
     },
     "execution_count": 16,
     "metadata": {},
     "output_type": "execute_result"
    }
   ],
   "source": [
    "result.logits"
   ]
  },
  {
   "cell_type": "code",
   "execution_count": 17,
   "id": "43825ca0",
   "metadata": {},
   "outputs": [
    {
     "data": {
      "text/plain": [
       "2"
      ]
     },
     "execution_count": 17,
     "metadata": {},
     "output_type": "execute_result"
    }
   ],
   "source": [
    "int(torch.argmax(result.logits))+1"
   ]
  },
  {
   "cell_type": "markdown",
   "id": "71e34983",
   "metadata": {},
   "source": [
    "## 4. Collect reviews"
   ]
  },
  {
   "cell_type": "code",
   "execution_count": 19,
   "id": "8fd40926",
   "metadata": {},
   "outputs": [],
   "source": [
    "r = requests.get('https://www.yelp.com/biz/mejico-sydney-2')"
   ]
  },
  {
   "cell_type": "code",
   "execution_count": 20,
   "id": "ca1cd3e5",
   "metadata": {},
   "outputs": [],
   "source": [
    "soup = BeautifulSoup(r.text,'html.parser')"
   ]
  },
  {
   "cell_type": "code",
   "execution_count": 21,
   "id": "06730c77",
   "metadata": {},
   "outputs": [],
   "source": [
    "regex = re.compile('.*comment.*')"
   ]
  },
  {
   "cell_type": "code",
   "execution_count": 22,
   "id": "fb17adb5",
   "metadata": {},
   "outputs": [],
   "source": [
    "results = soup.find_all('p',{'class':regex})"
   ]
  },
  {
   "cell_type": "code",
   "execution_count": 23,
   "id": "16b14315",
   "metadata": {},
   "outputs": [],
   "source": [
    "reviews = [result.text for result in results]"
   ]
  },
  {
   "cell_type": "code",
   "execution_count": 24,
   "id": "7cf8e10d",
   "metadata": {
    "collapsed": true
   },
   "outputs": [
    {
     "data": {
      "text/plain": [
       "['The food and service here was really good. \\xa0It was more like tapas food than Mexican food! \\xa0The drinks were amazing too!',\n",
       " 'Visiting from Texas and decided to give this restaurant a try. \\xa0We were pleasantly surprised. \\xa0While the margaritas are more like martinis, the food was excellent. \\xa0More like a tapas, Mexican fusion. \\xa0Great way to try different plates.The real treat was Chelsea, our waitress. \\xa0Took the time to explain the menu and offer suggestions. \\xa0Always smiling and very pleasant. \\xa0Best service we have had in Sydney!',\n",
       " 'Great atmosphere, attentive service, solid margs, and a Tasty menu. The Brisket Tacos were substantial and delicious. The corn ribs??? \\xa0Fawgetaboutit! \\xa0Unreal. \\xa0Wanted to order another plate.',\n",
       " \"Don't come here expecting legit Mexican food but a modern twist on some staples. Loud party area, fun drinks and friendly staff make this a hip meeting area for large groups. Drinks were better than the food. They stuff the families toward the back but lack any amenities (no changing table) except a high chair. Service started off friendly but it took a while to get someone to take our order and then they forgot our dish which came out cold when we asked for it. Then we had to flag someone down to pay the bill. The watermelon salad was tasty but not complex, tossed with a few cucumbers and pistachios. The corn lollipops with spicy mayo sauce were probably the best dish. The beef empanadas were cold and average though the salsa was an interesting pickled onion. Definitely skip the octopus dish- it was dry, over cooked and lacked flavor though the presentation looked promising. It came with squares of polenta and dallops of potato mash with a dramatic squid ink streak across the dish but no interesting flavors stood out. All those dishes and still left hungry. The Guadalajara passion fruit drink was easy to sip and not too strong. The beer was average. This is more of a spot to grab some mixed cocktails and a few snacks but not meal worthy.\",\n",
       " \"Out of all the restaurants that I tried in Sydney, this was definitely the most reasonably priced one offering good food of course. We started off with Margarita's - they have $10 margaritas on Mondays (or perhaps all weekdays). We lost count of how many we had, they were so good. On to the food, we tried a little bit of everything - we ordered corn lollipops, jalapeño poppers, grilled halloumi, batata bravas to start and we shared 2 items from the grill which I can't remember (probably because of the margarita's). We ended with churros & chocolate sauce which was awesome. Service was good and the staff waiting us was very friendly. He also recommended us portions for certain items to match our party size. For instance, we didn't have to order 2 portions of an appetizer instead we could order one and a half portion which I think was great. It allowed us to chose more dishes than more quantity of the same dish.\",\n",
       " 'We came here on a Thursday night @ 5pm and by 6pm the place was packed. A lovely big restaurant with a bar at the front (which is a bit awkward to try and push past everyone to get to your table). Friendly, helpful staff which is always a good start. The menu is large so we went with the \"feed me\" selection. All you need to do is sit back and let the chef feed you. As the other reviewers have stated the corn is a highlight and the pulled pork tacos, the sangria wasn\\'t bad either.Loved the Mexican tapas style food and will be back.',\n",
       " 'The food is fresh and tasty. \\xa0The scallop ceviche started the lunch. The scallops were tender with a great acidity and use of mango and peppers. The steak was tender and I got the hint of tequila in the sauce. I enjoyed a watermelon salad that complimented the the steak. The portions are good, but a stretch if you are sharing. My only down point is the service. They really only showed up to present my next plate and never checked to see if I wanted another drink (which I did).Enjoyed the food.',\n",
       " \"Have been here twice and have absolutely loved my experience both times. Straight through the wide and inviting doors, you're greeted with the modern, trendy and fresh vibe of the restaurant. Decor is a huge plus, with oversized exotic black lamps hanging overhead and rustic brick walls. Highly recommend:- The guacamole. It's made fresh in front of you and served with thinly sliced banana chips. - Corn cobs with popcorn and a really unique corn and popcorn hot salsa. It's like a party in your mouth. - The drinks! The cocktails are sweet and fruity but very alcoholic at the same time. They also serve more than a hundred types of tequila. There is a wooden spinner on the table where you spin 3 times to create your perfect tequila with 3 elements (an element is chosen with each spin). All the other food tasted good as well. The chorizo and black eye pea with corn chips dish came with around 6 corn chips - could have done with triple the amount. A really enjoyable experience but remember to book well in advance! It's crowded even on a Monday.\",\n",
       " \"I was pleasantly surprised at what a great job they did with Mexican food at this downtown Sydney eatery. Very friendly staff, a substantial bar area, and yummy cocktails round out this dining experience in a superb way. Try the watermelon salad, and ANY of the tacos. You won't be disappointed!\",\n",
       " \"If you're looking for a quiet little romantic place, this is not it. Lots of hard surfaces create a very noisy atmosphere. But, if you're looking for a new age take on Mexican food, you're in for some very interesting dishes.We ordered the salmon tacos, tamales, blackened chicken, and watermelon salad.The salmon tacos were delicious, but points off for cold flour tortillas instead of fresh hot corn. (No choice was offered). \\xa0The tamales were unrecognizable by Mexican standards, but still very tasty. The blackened chicken was good but it would've been nice if some tortillas would have been offered which is customary in most Mexican restaurants. The watermelon salad was a taste sensation, even though it had a bit too much cilantro for my taste. My wife absolutely loved it. \\xa0The plantain chips were very good and the guacamole was some of the best we've had.Our server was attentive but not overbearing. She even came to apologize that the food was not timed appropriately and offered us dessert as compensation. We had the churro's and were not disappointed. Definitely something everyone should try to top off a fantastic meal. Sad to say will be flying back to Texas tomorrow so it will be sometime before we can enjoy a meal here once more.\"]"
      ]
     },
     "execution_count": 24,
     "metadata": {},
     "output_type": "execute_result"
    }
   ],
   "source": [
    "reviews"
   ]
  },
  {
   "cell_type": "markdown",
   "id": "d3113c43",
   "metadata": {},
   "source": [
    "## 5. Load Reviews into Dataframe and score"
   ]
  },
  {
   "cell_type": "code",
   "execution_count": 25,
   "id": "b380853d",
   "metadata": {},
   "outputs": [],
   "source": [
    "import numpy as np\n",
    "import pandas as pd"
   ]
  },
  {
   "cell_type": "code",
   "execution_count": 27,
   "id": "5ebfa2d1",
   "metadata": {
    "collapsed": true
   },
   "outputs": [
    {
     "data": {
      "text/plain": [
       "array(['The food and service here was really good. \\xa0It was more like tapas food than Mexican food! \\xa0The drinks were amazing too!',\n",
       "       'Visiting from Texas and decided to give this restaurant a try. \\xa0We were pleasantly surprised. \\xa0While the margaritas are more like martinis, the food was excellent. \\xa0More like a tapas, Mexican fusion. \\xa0Great way to try different plates.The real treat was Chelsea, our waitress. \\xa0Took the time to explain the menu and offer suggestions. \\xa0Always smiling and very pleasant. \\xa0Best service we have had in Sydney!',\n",
       "       'Great atmosphere, attentive service, solid margs, and a Tasty menu. The Brisket Tacos were substantial and delicious. The corn ribs??? \\xa0Fawgetaboutit! \\xa0Unreal. \\xa0Wanted to order another plate.',\n",
       "       \"Don't come here expecting legit Mexican food but a modern twist on some staples. Loud party area, fun drinks and friendly staff make this a hip meeting area for large groups. Drinks were better than the food. They stuff the families toward the back but lack any amenities (no changing table) except a high chair. Service started off friendly but it took a while to get someone to take our order and then they forgot our dish which came out cold when we asked for it. Then we had to flag someone down to pay the bill. The watermelon salad was tasty but not complex, tossed with a few cucumbers and pistachios. The corn lollipops with spicy mayo sauce were probably the best dish. The beef empanadas were cold and average though the salsa was an interesting pickled onion. Definitely skip the octopus dish- it was dry, over cooked and lacked flavor though the presentation looked promising. It came with squares of polenta and dallops of potato mash with a dramatic squid ink streak across the dish but no interesting flavors stood out. All those dishes and still left hungry. The Guadalajara passion fruit drink was easy to sip and not too strong. The beer was average. This is more of a spot to grab some mixed cocktails and a few snacks but not meal worthy.\",\n",
       "       \"Out of all the restaurants that I tried in Sydney, this was definitely the most reasonably priced one offering good food of course. We started off with Margarita's - they have $10 margaritas on Mondays (or perhaps all weekdays). We lost count of how many we had, they were so good. On to the food, we tried a little bit of everything - we ordered corn lollipops, jalapeño poppers, grilled halloumi, batata bravas to start and we shared 2 items from the grill which I can't remember (probably because of the margarita's). We ended with churros & chocolate sauce which was awesome. Service was good and the staff waiting us was very friendly. He also recommended us portions for certain items to match our party size. For instance, we didn't have to order 2 portions of an appetizer instead we could order one and a half portion which I think was great. It allowed us to chose more dishes than more quantity of the same dish.\",\n",
       "       'We came here on a Thursday night @ 5pm and by 6pm the place was packed. A lovely big restaurant with a bar at the front (which is a bit awkward to try and push past everyone to get to your table). Friendly, helpful staff which is always a good start. The menu is large so we went with the \"feed me\" selection. All you need to do is sit back and let the chef feed you. As the other reviewers have stated the corn is a highlight and the pulled pork tacos, the sangria wasn\\'t bad either.Loved the Mexican tapas style food and will be back.',\n",
       "       'The food is fresh and tasty. \\xa0The scallop ceviche started the lunch. The scallops were tender with a great acidity and use of mango and peppers. The steak was tender and I got the hint of tequila in the sauce. I enjoyed a watermelon salad that complimented the the steak. The portions are good, but a stretch if you are sharing. My only down point is the service. They really only showed up to present my next plate and never checked to see if I wanted another drink (which I did).Enjoyed the food.',\n",
       "       \"Have been here twice and have absolutely loved my experience both times. Straight through the wide and inviting doors, you're greeted with the modern, trendy and fresh vibe of the restaurant. Decor is a huge plus, with oversized exotic black lamps hanging overhead and rustic brick walls. Highly recommend:- The guacamole. It's made fresh in front of you and served with thinly sliced banana chips. - Corn cobs with popcorn and a really unique corn and popcorn hot salsa. It's like a party in your mouth. - The drinks! The cocktails are sweet and fruity but very alcoholic at the same time. They also serve more than a hundred types of tequila. There is a wooden spinner on the table where you spin 3 times to create your perfect tequila with 3 elements (an element is chosen with each spin). All the other food tasted good as well. The chorizo and black eye pea with corn chips dish came with around 6 corn chips - could have done with triple the amount. A really enjoyable experience but remember to book well in advance! It's crowded even on a Monday.\",\n",
       "       \"I was pleasantly surprised at what a great job they did with Mexican food at this downtown Sydney eatery. Very friendly staff, a substantial bar area, and yummy cocktails round out this dining experience in a superb way. Try the watermelon salad, and ANY of the tacos. You won't be disappointed!\",\n",
       "       \"If you're looking for a quiet little romantic place, this is not it. Lots of hard surfaces create a very noisy atmosphere. But, if you're looking for a new age take on Mexican food, you're in for some very interesting dishes.We ordered the salmon tacos, tamales, blackened chicken, and watermelon salad.The salmon tacos were delicious, but points off for cold flour tortillas instead of fresh hot corn. (No choice was offered). \\xa0The tamales were unrecognizable by Mexican standards, but still very tasty. The blackened chicken was good but it would've been nice if some tortillas would have been offered which is customary in most Mexican restaurants. The watermelon salad was a taste sensation, even though it had a bit too much cilantro for my taste. My wife absolutely loved it. \\xa0The plantain chips were very good and the guacamole was some of the best we've had.Our server was attentive but not overbearing. She even came to apologize that the food was not timed appropriately and offered us dessert as compensation. We had the churro's and were not disappointed. Definitely something everyone should try to top off a fantastic meal. Sad to say will be flying back to Texas tomorrow so it will be sometime before we can enjoy a meal here once more.\"],\n",
       "      dtype='<U1258')"
      ]
     },
     "execution_count": 27,
     "metadata": {},
     "output_type": "execute_result"
    }
   ],
   "source": [
    "np.array(reviews)"
   ]
  },
  {
   "cell_type": "code",
   "execution_count": 29,
   "id": "2bfe07d7",
   "metadata": {},
   "outputs": [],
   "source": [
    "df = pd.DataFrame(np.array(reviews), columns=['Reviews'])"
   ]
  },
  {
   "cell_type": "code",
   "execution_count": 30,
   "id": "db159a0e",
   "metadata": {
    "collapsed": true
   },
   "outputs": [
    {
     "data": {
      "text/html": [
       "<div>\n",
       "<style scoped>\n",
       "    .dataframe tbody tr th:only-of-type {\n",
       "        vertical-align: middle;\n",
       "    }\n",
       "\n",
       "    .dataframe tbody tr th {\n",
       "        vertical-align: top;\n",
       "    }\n",
       "\n",
       "    .dataframe thead th {\n",
       "        text-align: right;\n",
       "    }\n",
       "</style>\n",
       "<table border=\"1\" class=\"dataframe\">\n",
       "  <thead>\n",
       "    <tr style=\"text-align: right;\">\n",
       "      <th></th>\n",
       "      <th>Reviews</th>\n",
       "    </tr>\n",
       "  </thead>\n",
       "  <tbody>\n",
       "    <tr>\n",
       "      <th>0</th>\n",
       "      <td>The food and service here was really good.  It...</td>\n",
       "    </tr>\n",
       "    <tr>\n",
       "      <th>1</th>\n",
       "      <td>Visiting from Texas and decided to give this r...</td>\n",
       "    </tr>\n",
       "    <tr>\n",
       "      <th>2</th>\n",
       "      <td>Great atmosphere, attentive service, solid mar...</td>\n",
       "    </tr>\n",
       "    <tr>\n",
       "      <th>3</th>\n",
       "      <td>Don't come here expecting legit Mexican food b...</td>\n",
       "    </tr>\n",
       "    <tr>\n",
       "      <th>4</th>\n",
       "      <td>Out of all the restaurants that I tried in Syd...</td>\n",
       "    </tr>\n",
       "    <tr>\n",
       "      <th>5</th>\n",
       "      <td>We came here on a Thursday night @ 5pm and by ...</td>\n",
       "    </tr>\n",
       "    <tr>\n",
       "      <th>6</th>\n",
       "      <td>The food is fresh and tasty.  The scallop cevi...</td>\n",
       "    </tr>\n",
       "    <tr>\n",
       "      <th>7</th>\n",
       "      <td>Have been here twice and have absolutely loved...</td>\n",
       "    </tr>\n",
       "    <tr>\n",
       "      <th>8</th>\n",
       "      <td>I was pleasantly surprised at what a great job...</td>\n",
       "    </tr>\n",
       "    <tr>\n",
       "      <th>9</th>\n",
       "      <td>If you're looking for a quiet little romantic ...</td>\n",
       "    </tr>\n",
       "  </tbody>\n",
       "</table>\n",
       "</div>"
      ],
      "text/plain": [
       "                                             Reviews\n",
       "0  The food and service here was really good.  It...\n",
       "1  Visiting from Texas and decided to give this r...\n",
       "2  Great atmosphere, attentive service, solid mar...\n",
       "3  Don't come here expecting legit Mexican food b...\n",
       "4  Out of all the restaurants that I tried in Syd...\n",
       "5  We came here on a Thursday night @ 5pm and by ...\n",
       "6  The food is fresh and tasty.  The scallop cevi...\n",
       "7  Have been here twice and have absolutely loved...\n",
       "8  I was pleasantly surprised at what a great job...\n",
       "9  If you're looking for a quiet little romantic ..."
      ]
     },
     "execution_count": 30,
     "metadata": {},
     "output_type": "execute_result"
    }
   ],
   "source": [
    "df"
   ]
  },
  {
   "cell_type": "code",
   "execution_count": 32,
   "id": "260726fc",
   "metadata": {},
   "outputs": [
    {
     "data": {
      "text/plain": [
       "'Visiting from Texas and decided to give this restaurant a try. \\xa0We were pleasantly surprised. \\xa0While the margaritas are more like martinis, the food was excellent. \\xa0More like a tapas, Mexican fusion. \\xa0Great way to try different plates.The real treat was Chelsea, our waitress. \\xa0Took the time to explain the menu and offer suggestions. \\xa0Always smiling and very pleasant. \\xa0Best service we have had in Sydney!'"
      ]
     },
     "execution_count": 32,
     "metadata": {},
     "output_type": "execute_result"
    }
   ],
   "source": [
    "df['Reviews'].iloc[1]"
   ]
  },
  {
   "cell_type": "code",
   "execution_count": 33,
   "id": "24892e68",
   "metadata": {},
   "outputs": [],
   "source": [
    "def sentiment_score(review):\n",
    "    token = tokenizer.encode(review,return_tensors='pt')\n",
    "    result= model(token)\n",
    "    return int(torch.argmax(result.logits))+1\n",
    "    "
   ]
  },
  {
   "cell_type": "code",
   "execution_count": 34,
   "id": "c83f7d29",
   "metadata": {},
   "outputs": [],
   "source": [
    "df['sentiment_score']= df['Reviews'].apply(lambda x: sentiment_score(x[:512]))"
   ]
  },
  {
   "cell_type": "code",
   "execution_count": 35,
   "id": "f00328ed",
   "metadata": {},
   "outputs": [
    {
     "data": {
      "text/html": [
       "<div>\n",
       "<style scoped>\n",
       "    .dataframe tbody tr th:only-of-type {\n",
       "        vertical-align: middle;\n",
       "    }\n",
       "\n",
       "    .dataframe tbody tr th {\n",
       "        vertical-align: top;\n",
       "    }\n",
       "\n",
       "    .dataframe thead th {\n",
       "        text-align: right;\n",
       "    }\n",
       "</style>\n",
       "<table border=\"1\" class=\"dataframe\">\n",
       "  <thead>\n",
       "    <tr style=\"text-align: right;\">\n",
       "      <th></th>\n",
       "      <th>Reviews</th>\n",
       "      <th>sentiment_score</th>\n",
       "    </tr>\n",
       "  </thead>\n",
       "  <tbody>\n",
       "    <tr>\n",
       "      <th>0</th>\n",
       "      <td>The food and service here was really good.  It...</td>\n",
       "      <td>5</td>\n",
       "    </tr>\n",
       "    <tr>\n",
       "      <th>1</th>\n",
       "      <td>Visiting from Texas and decided to give this r...</td>\n",
       "      <td>5</td>\n",
       "    </tr>\n",
       "    <tr>\n",
       "      <th>2</th>\n",
       "      <td>Great atmosphere, attentive service, solid mar...</td>\n",
       "      <td>3</td>\n",
       "    </tr>\n",
       "    <tr>\n",
       "      <th>3</th>\n",
       "      <td>Don't come here expecting legit Mexican food b...</td>\n",
       "      <td>3</td>\n",
       "    </tr>\n",
       "    <tr>\n",
       "      <th>4</th>\n",
       "      <td>Out of all the restaurants that I tried in Syd...</td>\n",
       "      <td>5</td>\n",
       "    </tr>\n",
       "    <tr>\n",
       "      <th>5</th>\n",
       "      <td>We came here on a Thursday night @ 5pm and by ...</td>\n",
       "      <td>4</td>\n",
       "    </tr>\n",
       "    <tr>\n",
       "      <th>6</th>\n",
       "      <td>The food is fresh and tasty.  The scallop cevi...</td>\n",
       "      <td>4</td>\n",
       "    </tr>\n",
       "    <tr>\n",
       "      <th>7</th>\n",
       "      <td>Have been here twice and have absolutely loved...</td>\n",
       "      <td>5</td>\n",
       "    </tr>\n",
       "    <tr>\n",
       "      <th>8</th>\n",
       "      <td>I was pleasantly surprised at what a great job...</td>\n",
       "      <td>5</td>\n",
       "    </tr>\n",
       "    <tr>\n",
       "      <th>9</th>\n",
       "      <td>If you're looking for a quiet little romantic ...</td>\n",
       "      <td>2</td>\n",
       "    </tr>\n",
       "  </tbody>\n",
       "</table>\n",
       "</div>"
      ],
      "text/plain": [
       "                                             Reviews  sentiment_score\n",
       "0  The food and service here was really good.  It...                5\n",
       "1  Visiting from Texas and decided to give this r...                5\n",
       "2  Great atmosphere, attentive service, solid mar...                3\n",
       "3  Don't come here expecting legit Mexican food b...                3\n",
       "4  Out of all the restaurants that I tried in Syd...                5\n",
       "5  We came here on a Thursday night @ 5pm and by ...                4\n",
       "6  The food is fresh and tasty.  The scallop cevi...                4\n",
       "7  Have been here twice and have absolutely loved...                5\n",
       "8  I was pleasantly surprised at what a great job...                5\n",
       "9  If you're looking for a quiet little romantic ...                2"
      ]
     },
     "execution_count": 35,
     "metadata": {},
     "output_type": "execute_result"
    }
   ],
   "source": [
    "df"
   ]
  },
  {
   "cell_type": "code",
   "execution_count": 36,
   "id": "f3cfb22a",
   "metadata": {},
   "outputs": [
    {
     "data": {
      "text/plain": [
       "\"If you're looking for a quiet little romantic place, this is not it. Lots of hard surfaces create a very noisy atmosphere. But, if you're looking for a new age take on Mexican food, you're in for some very interesting dishes.We ordered the salmon tacos, tamales, blackened chicken, and watermelon salad.The salmon tacos were delicious, but points off for cold flour tortillas instead of fresh hot corn. (No choice was offered). \\xa0The tamales were unrecognizable by Mexican standards, but still very tasty. The blackened chicken was good but it would've been nice if some tortillas would have been offered which is customary in most Mexican restaurants. The watermelon salad was a taste sensation, even though it had a bit too much cilantro for my taste. My wife absolutely loved it. \\xa0The plantain chips were very good and the guacamole was some of the best we've had.Our server was attentive but not overbearing. She even came to apologize that the food was not timed appropriately and offered us dessert as compensation. We had the churro's and were not disappointed. Definitely something everyone should try to top off a fantastic meal. Sad to say will be flying back to Texas tomorrow so it will be sometime before we can enjoy a meal here once more.\""
      ]
     },
     "execution_count": 36,
     "metadata": {},
     "output_type": "execute_result"
    }
   ],
   "source": [
    "df['Reviews'].iloc[9]"
   ]
  }
 ],
 "metadata": {
  "kernelspec": {
   "display_name": "sentiment_analysis",
   "language": "python",
   "name": "sentiment_analysis"
  },
  "language_info": {
   "codemirror_mode": {
    "name": "ipython",
    "version": 3
   },
   "file_extension": ".py",
   "mimetype": "text/x-python",
   "name": "python",
   "nbconvert_exporter": "python",
   "pygments_lexer": "ipython3",
   "version": "3.9.12"
  }
 },
 "nbformat": 4,
 "nbformat_minor": 5
}
